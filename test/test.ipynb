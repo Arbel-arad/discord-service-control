{
 "cells": [
  {
   "cell_type": "code",
   "execution_count": null,
   "metadata": {},
   "outputs": [],
   "source": []
  }
 ],
 "metadata": {
  "kernelspec": {
   "display_name": "Python 3.10.6 64-bit (microsoft store)",
   "language": "python",
   "name": "python3"
  },
  "language_info": {
   "name": "python",
   "version": "3.10.6"
  },
  "orig_nbformat": 4,
  "vscode": {
   "interpreter": {
    "hash": "0d20a9c1b8db127cf69575dc7ec56a5aa917dd25d324a0c98b4438bd1f519a99"
   }
  }
 },
 "nbformat": 4,
 "nbformat_minor": 2
}
