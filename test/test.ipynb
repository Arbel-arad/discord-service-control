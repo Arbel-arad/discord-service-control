{
 "cells": [
  {
   "cell_type": "markdown",
   "metadata": {},
   "source": [
    "example logger code."
   ]
  },
  {
   "cell_type": "code",
   "execution_count": 2,
   "metadata": {},
   "outputs": [],
   "source": [
    "from datetime import datetime\n",
    "\n",
    "from influxdb_client import InfluxDBClient, Point, WritePrecision\n",
    "from influxdb_client.client.write_api import SYNCHRONOUS\n",
    "\n",
    "# You can generate an API token from the \"API Tokens Tab\" in the UI\n",
    "token = \"xxxxxxxxxxxxxxxxxxxxxxxxxxxxxxxxxxxxxxxxxxxxxxxxxxxxxxxxxxxxxxxxxxxxxxxxxxxxxxxxxxxxxxxxxxxxxxxxxxxxxxxxxxxxxxxxxxxxxxxxxxxxxxxx\"\n",
    "org = \"Arbel\"\n",
    "bucket = \"speedtest_log\"\n",
    "\n",
    "with InfluxDBClient(url=\"http://rp1.local:8086\", token=token, org=org) as client:\n",
    "  write_api = client.write_api(write_options=SYNCHRONOUS)\n",
    "\n",
    "data = \"mem,host=host1 used_percent=1234\"\n",
    "write_api.write(bucket, org, data)\n"
   ]
  },
  {
   "cell_type": "markdown",
   "metadata": {},
   "source": []
  },
  {
   "cell_type": "code",
   "execution_count": null,
   "metadata": {},
   "outputs": [],
   "source": [
    "from datetime import datetime\n",
    "import socket\n",
    "import os\n",
    "import re\n",
    "import subprocess\n",
    "import time\n",
    "\n",
    "from influxdb_client import InfluxDBClient, Point, WritePrecision\n",
    "from influxdb_client.client.write_api import SYNCHRONOUS\n",
    "\n",
    "# You can generate an API token from the \"API Tokens Tab\" in the UI\n",
    "influxdb_key = open(\"../data/influxdb.key\", 'r')\n",
    "token = influxdb_key.read()\n",
    "org = \"Arbel\"\n",
    "bucket = \"speedtest_log\"\n",
    "\n",
    "with InfluxDBClient(url=\"http://localhost:8086\", token=token, org=org) as client:\n",
    "  write_api = client.write_api(write_options=SYNCHRONOUS)\n",
    "\n",
    "response = subprocess.Popen('/usr/bin/speedtest -s 31817 --accept-license --accept-gdpr',\n",
    "                            shell=True, stdout=subprocess.PIPE).stdout.read().decode('utf-8')\n",
    "\n",
    "ping = re.search('Latency:\\s+(.*?)\\s', response, re.MULTILINE)\n",
    "download = re.search('Download:\\s+(.*?)\\s', response, re.MULTILINE)\n",
    "upload = re.search('Upload:\\s+(.*?)\\s', response, re.MULTILINE)\n",
    "jitter = re.search('Latency:.*?jitter:\\s+(.*?)ms', response, re.MULTILINE)\n",
    "\n",
    "ping = ping.group(1)\n",
    "download = download.group(1)\n",
    "upload = upload.group(1)\n",
    "jitter = jitter.group(1)\n",
    "\n",
    "speed_data = [\n",
    "    {\n",
    "        \"measurement\": \"internet_speed\",\n",
    "        \"tags\": {\n",
    "            \"host\": \"rp1.local\"\n",
    "        },\n",
    "        \"fields\": {\n",
    "            \"download\": float(download),\n",
    "            \"upload\": float(upload),\n",
    "            \"ping\": float(ping),\n",
    "            \"jitter\": float(jitter)\n",
    "        }\n",
    "    }\n",
    "]\n",
    "\n",
    "#print(speed_data)\n",
    "write_api.write(bucket, org, speed_data)\n"
   ]
  },
  {
   "cell_type": "markdown",
   "metadata": {},
   "source": [
    "\"c:/Program Files/WindowsApps/PythonSoftwareFoundation.Python.3.10_3.10.1776.0_x64__qbz5n2kfra8p0/python3.10.exe\" -m pip install ipykernel -U --user --force-reinstall"
   ]
  }
 ],
 "metadata": {
  "kernelspec": {
   "display_name": "Python 3.10.6 64-bit",
   "language": "python",
   "name": "python3"
  },
  "language_info": {
   "codemirror_mode": {
    "name": "ipython",
    "version": 3
   },
   "file_extension": ".py",
   "mimetype": "text/x-python",
   "name": "python",
   "nbconvert_exporter": "python",
   "pygments_lexer": "ipython3",
   "version": "3.10.6"
  },
  "orig_nbformat": 4,
  "vscode": {
   "interpreter": {
    "hash": "95cdb06e919eab5e2c554174537356ac9b55200d1eb6f880dc25de04343a18ea"
   }
  }
 },
 "nbformat": 4,
 "nbformat_minor": 2
}
